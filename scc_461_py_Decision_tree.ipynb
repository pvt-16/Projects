{
  "cells": [
    {
      "cell_type": "markdown",
      "metadata": {
        "id": "view-in-github",
        "colab_type": "text"
      },
      "source": [
        "<a href=\"https://colab.research.google.com/github/pvt-16/Projects/blob/DataScienceMasters/scc_461_py_Decision_tree.ipynb\" target=\"_parent\"><img src=\"https://colab.research.google.com/assets/colab-badge.svg\" alt=\"Open In Colab\"/></a>"
      ]
    },
    {
      "cell_type": "markdown",
      "metadata": {
        "id": "NVGB-L5Zof5r"
      },
      "source": [
        "## Basics"
      ]
    },
    {
      "cell_type": "code",
      "execution_count": 47,
      "metadata": {
        "id": "cMANUz-Qiac7"
      },
      "outputs": [],
      "source": [
        "import sklearn as skl\n",
        "from sklearn import datasets\n",
        "import pandas as pd\n",
        "import warnings\n",
        "#from sklearn.tree import DecisionTreeClassifier\n",
        "import time \n",
        "import matplotlib.pyplot as plt\n",
        "import graphviz\n",
        "\n",
        "warnings.filterwarnings('ignore')"
      ]
    },
    {
      "cell_type": "code",
      "execution_count": 28,
      "metadata": {
        "id": "vTenOSnsjcZL"
      },
      "outputs": [],
      "source": [
        "wineDataset = datasets.load_wine()"
      ]
    },
    {
      "cell_type": "code",
      "source": [
        "wineDataset"
      ],
      "metadata": {
        "id": "UdkJEsOYJ9Mq"
      },
      "execution_count": null,
      "outputs": []
    },
    {
      "cell_type": "code",
      "execution_count": 29,
      "metadata": {
        "id": "za0yT-1UilsE"
      },
      "outputs": [],
      "source": [
        "featureSet, targetSet = wineDataset.data, wineDataset.target"
      ]
    },
    {
      "cell_type": "code",
      "execution_count": 30,
      "metadata": {
        "id": "DwD7NKpJitLJ"
      },
      "outputs": [],
      "source": [
        "dfFeatures = pd.DataFrame(featureSet, columns = wineDataset.feature_names)\n",
        "dfTarget = pd.DataFrame(targetSet, columns = [\"Class\"])"
      ]
    },
    {
      "cell_type": "markdown",
      "metadata": {
        "id": "frquAxZrnfAS"
      },
      "source": [
        "## EDA"
      ]
    },
    {
      "cell_type": "code",
      "execution_count": 31,
      "metadata": {
        "colab": {
          "base_uri": "https://localhost:8080/",
          "height": 270
        },
        "id": "lBrYIqq-nHEl",
        "outputId": "699475a2-02cc-4296-b547-0d3c445a3bb5"
      },
      "outputs": [
        {
          "output_type": "execute_result",
          "data": {
            "text/html": [
              "\n",
              "  <div id=\"df-585c6ed5-ad2b-49c3-8016-0fde002347cf\">\n",
              "    <div class=\"colab-df-container\">\n",
              "      <div>\n",
              "<style scoped>\n",
              "    .dataframe tbody tr th:only-of-type {\n",
              "        vertical-align: middle;\n",
              "    }\n",
              "\n",
              "    .dataframe tbody tr th {\n",
              "        vertical-align: top;\n",
              "    }\n",
              "\n",
              "    .dataframe thead th {\n",
              "        text-align: right;\n",
              "    }\n",
              "</style>\n",
              "<table border=\"1\" class=\"dataframe\">\n",
              "  <thead>\n",
              "    <tr style=\"text-align: right;\">\n",
              "      <th></th>\n",
              "      <th>alcohol</th>\n",
              "      <th>malic_acid</th>\n",
              "      <th>ash</th>\n",
              "      <th>alcalinity_of_ash</th>\n",
              "      <th>magnesium</th>\n",
              "      <th>total_phenols</th>\n",
              "      <th>flavanoids</th>\n",
              "      <th>nonflavanoid_phenols</th>\n",
              "      <th>proanthocyanins</th>\n",
              "      <th>color_intensity</th>\n",
              "      <th>hue</th>\n",
              "      <th>od280/od315_of_diluted_wines</th>\n",
              "      <th>proline</th>\n",
              "    </tr>\n",
              "  </thead>\n",
              "  <tbody>\n",
              "    <tr>\n",
              "      <th>0</th>\n",
              "      <td>14.23</td>\n",
              "      <td>1.71</td>\n",
              "      <td>2.43</td>\n",
              "      <td>15.6</td>\n",
              "      <td>127.0</td>\n",
              "      <td>2.80</td>\n",
              "      <td>3.06</td>\n",
              "      <td>0.28</td>\n",
              "      <td>2.29</td>\n",
              "      <td>5.64</td>\n",
              "      <td>1.04</td>\n",
              "      <td>3.92</td>\n",
              "      <td>1065.0</td>\n",
              "    </tr>\n",
              "    <tr>\n",
              "      <th>1</th>\n",
              "      <td>13.20</td>\n",
              "      <td>1.78</td>\n",
              "      <td>2.14</td>\n",
              "      <td>11.2</td>\n",
              "      <td>100.0</td>\n",
              "      <td>2.65</td>\n",
              "      <td>2.76</td>\n",
              "      <td>0.26</td>\n",
              "      <td>1.28</td>\n",
              "      <td>4.38</td>\n",
              "      <td>1.05</td>\n",
              "      <td>3.40</td>\n",
              "      <td>1050.0</td>\n",
              "    </tr>\n",
              "    <tr>\n",
              "      <th>2</th>\n",
              "      <td>13.16</td>\n",
              "      <td>2.36</td>\n",
              "      <td>2.67</td>\n",
              "      <td>18.6</td>\n",
              "      <td>101.0</td>\n",
              "      <td>2.80</td>\n",
              "      <td>3.24</td>\n",
              "      <td>0.30</td>\n",
              "      <td>2.81</td>\n",
              "      <td>5.68</td>\n",
              "      <td>1.03</td>\n",
              "      <td>3.17</td>\n",
              "      <td>1185.0</td>\n",
              "    </tr>\n",
              "    <tr>\n",
              "      <th>3</th>\n",
              "      <td>14.37</td>\n",
              "      <td>1.95</td>\n",
              "      <td>2.50</td>\n",
              "      <td>16.8</td>\n",
              "      <td>113.0</td>\n",
              "      <td>3.85</td>\n",
              "      <td>3.49</td>\n",
              "      <td>0.24</td>\n",
              "      <td>2.18</td>\n",
              "      <td>7.80</td>\n",
              "      <td>0.86</td>\n",
              "      <td>3.45</td>\n",
              "      <td>1480.0</td>\n",
              "    </tr>\n",
              "    <tr>\n",
              "      <th>4</th>\n",
              "      <td>13.24</td>\n",
              "      <td>2.59</td>\n",
              "      <td>2.87</td>\n",
              "      <td>21.0</td>\n",
              "      <td>118.0</td>\n",
              "      <td>2.80</td>\n",
              "      <td>2.69</td>\n",
              "      <td>0.39</td>\n",
              "      <td>1.82</td>\n",
              "      <td>4.32</td>\n",
              "      <td>1.04</td>\n",
              "      <td>2.93</td>\n",
              "      <td>735.0</td>\n",
              "    </tr>\n",
              "  </tbody>\n",
              "</table>\n",
              "</div>\n",
              "      <button class=\"colab-df-convert\" onclick=\"convertToInteractive('df-585c6ed5-ad2b-49c3-8016-0fde002347cf')\"\n",
              "              title=\"Convert this dataframe to an interactive table.\"\n",
              "              style=\"display:none;\">\n",
              "        \n",
              "  <svg xmlns=\"http://www.w3.org/2000/svg\" height=\"24px\"viewBox=\"0 0 24 24\"\n",
              "       width=\"24px\">\n",
              "    <path d=\"M0 0h24v24H0V0z\" fill=\"none\"/>\n",
              "    <path d=\"M18.56 5.44l.94 2.06.94-2.06 2.06-.94-2.06-.94-.94-2.06-.94 2.06-2.06.94zm-11 1L8.5 8.5l.94-2.06 2.06-.94-2.06-.94L8.5 2.5l-.94 2.06-2.06.94zm10 10l.94 2.06.94-2.06 2.06-.94-2.06-.94-.94-2.06-.94 2.06-2.06.94z\"/><path d=\"M17.41 7.96l-1.37-1.37c-.4-.4-.92-.59-1.43-.59-.52 0-1.04.2-1.43.59L10.3 9.45l-7.72 7.72c-.78.78-.78 2.05 0 2.83L4 21.41c.39.39.9.59 1.41.59.51 0 1.02-.2 1.41-.59l7.78-7.78 2.81-2.81c.8-.78.8-2.07 0-2.86zM5.41 20L4 18.59l7.72-7.72 1.47 1.35L5.41 20z\"/>\n",
              "  </svg>\n",
              "      </button>\n",
              "      \n",
              "  <style>\n",
              "    .colab-df-container {\n",
              "      display:flex;\n",
              "      flex-wrap:wrap;\n",
              "      gap: 12px;\n",
              "    }\n",
              "\n",
              "    .colab-df-convert {\n",
              "      background-color: #E8F0FE;\n",
              "      border: none;\n",
              "      border-radius: 50%;\n",
              "      cursor: pointer;\n",
              "      display: none;\n",
              "      fill: #1967D2;\n",
              "      height: 32px;\n",
              "      padding: 0 0 0 0;\n",
              "      width: 32px;\n",
              "    }\n",
              "\n",
              "    .colab-df-convert:hover {\n",
              "      background-color: #E2EBFA;\n",
              "      box-shadow: 0px 1px 2px rgba(60, 64, 67, 0.3), 0px 1px 3px 1px rgba(60, 64, 67, 0.15);\n",
              "      fill: #174EA6;\n",
              "    }\n",
              "\n",
              "    [theme=dark] .colab-df-convert {\n",
              "      background-color: #3B4455;\n",
              "      fill: #D2E3FC;\n",
              "    }\n",
              "\n",
              "    [theme=dark] .colab-df-convert:hover {\n",
              "      background-color: #434B5C;\n",
              "      box-shadow: 0px 1px 3px 1px rgba(0, 0, 0, 0.15);\n",
              "      filter: drop-shadow(0px 1px 2px rgba(0, 0, 0, 0.3));\n",
              "      fill: #FFFFFF;\n",
              "    }\n",
              "  </style>\n",
              "\n",
              "      <script>\n",
              "        const buttonEl =\n",
              "          document.querySelector('#df-585c6ed5-ad2b-49c3-8016-0fde002347cf button.colab-df-convert');\n",
              "        buttonEl.style.display =\n",
              "          google.colab.kernel.accessAllowed ? 'block' : 'none';\n",
              "\n",
              "        async function convertToInteractive(key) {\n",
              "          const element = document.querySelector('#df-585c6ed5-ad2b-49c3-8016-0fde002347cf');\n",
              "          const dataTable =\n",
              "            await google.colab.kernel.invokeFunction('convertToInteractive',\n",
              "                                                     [key], {});\n",
              "          if (!dataTable) return;\n",
              "\n",
              "          const docLinkHtml = 'Like what you see? Visit the ' +\n",
              "            '<a target=\"_blank\" href=https://colab.research.google.com/notebooks/data_table.ipynb>data table notebook</a>'\n",
              "            + ' to learn more about interactive tables.';\n",
              "          element.innerHTML = '';\n",
              "          dataTable['output_type'] = 'display_data';\n",
              "          await google.colab.output.renderOutput(dataTable, element);\n",
              "          const docLink = document.createElement('div');\n",
              "          docLink.innerHTML = docLinkHtml;\n",
              "          element.appendChild(docLink);\n",
              "        }\n",
              "      </script>\n",
              "    </div>\n",
              "  </div>\n",
              "  "
            ],
            "text/plain": [
              "   alcohol  malic_acid   ash  ...   hue  od280/od315_of_diluted_wines  proline\n",
              "0    14.23        1.71  2.43  ...  1.04                          3.92   1065.0\n",
              "1    13.20        1.78  2.14  ...  1.05                          3.40   1050.0\n",
              "2    13.16        2.36  2.67  ...  1.03                          3.17   1185.0\n",
              "3    14.37        1.95  2.50  ...  0.86                          3.45   1480.0\n",
              "4    13.24        2.59  2.87  ...  1.04                          2.93    735.0\n",
              "\n",
              "[5 rows x 13 columns]"
            ]
          },
          "metadata": {},
          "execution_count": 31
        }
      ],
      "source": [
        "dfFeatures.head()"
      ]
    },
    {
      "cell_type": "code",
      "execution_count": 32,
      "metadata": {
        "colab": {
          "base_uri": "https://localhost:8080/"
        },
        "id": "IJ-V96U0nkzK",
        "outputId": "cd7b402a-4ee5-434e-af32-e2584a69b820"
      },
      "outputs": [
        {
          "output_type": "stream",
          "name": "stdout",
          "text": [
            "<class 'pandas.core.frame.DataFrame'>\n",
            "RangeIndex: 178 entries, 0 to 177\n",
            "Data columns (total 13 columns):\n",
            " #   Column                        Non-Null Count  Dtype  \n",
            "---  ------                        --------------  -----  \n",
            " 0   alcohol                       178 non-null    float64\n",
            " 1   malic_acid                    178 non-null    float64\n",
            " 2   ash                           178 non-null    float64\n",
            " 3   alcalinity_of_ash             178 non-null    float64\n",
            " 4   magnesium                     178 non-null    float64\n",
            " 5   total_phenols                 178 non-null    float64\n",
            " 6   flavanoids                    178 non-null    float64\n",
            " 7   nonflavanoid_phenols          178 non-null    float64\n",
            " 8   proanthocyanins               178 non-null    float64\n",
            " 9   color_intensity               178 non-null    float64\n",
            " 10  hue                           178 non-null    float64\n",
            " 11  od280/od315_of_diluted_wines  178 non-null    float64\n",
            " 12  proline                       178 non-null    float64\n",
            "dtypes: float64(13)\n",
            "memory usage: 18.2 KB\n"
          ]
        }
      ],
      "source": [
        "dfFeatures.info()"
      ]
    },
    {
      "cell_type": "code",
      "execution_count": 33,
      "metadata": {
        "colab": {
          "base_uri": "https://localhost:8080/"
        },
        "id": "X6eHslrvoEud",
        "outputId": "d6e11a5e-ed3e-4f9a-8c98-53dad12a4541"
      },
      "outputs": [
        {
          "output_type": "execute_result",
          "data": {
            "text/plain": [
              "1    71\n",
              "0    59\n",
              "2    48\n",
              "Name: Class, dtype: int64"
            ]
          },
          "metadata": {},
          "execution_count": 33
        }
      ],
      "source": [
        "dfTarget['Class'].value_counts()"
      ]
    },
    {
      "cell_type": "markdown",
      "metadata": {
        "id": "NuUScvYUsXb6"
      },
      "source": [
        "## Feature Engineering"
      ]
    },
    {
      "cell_type": "markdown",
      "metadata": {
        "id": "V7B-aDrzscTc"
      },
      "source": [
        "### Handle Categorical variables"
      ]
    },
    {
      "cell_type": "markdown",
      "metadata": {
        "id": "HAZO_K0bstPD"
      },
      "source": [
        "encoding\n",
        "\n",
        "Ref: https://www.kaggle.com/prashant111/decision-tree-classifier-tutorial#12.-Feature-Engineering-\n"
      ]
    },
    {
      "cell_type": "code",
      "execution_count": 34,
      "metadata": {
        "id": "CbJ7htZxsaS5"
      },
      "outputs": [],
      "source": [
        "#import category_encoders as ce"
      ]
    },
    {
      "cell_type": "markdown",
      "metadata": {
        "id": "CujgPw-3qtIc"
      },
      "source": [
        "## Train and Test datasets"
      ]
    },
    {
      "cell_type": "code",
      "execution_count": 35,
      "metadata": {
        "id": "I3I4V0EGqxqy"
      },
      "outputs": [],
      "source": [
        "trainFeatureSet, testFeatureSet, trainTargetSet, testTargetSet = skl.model_selection.train_test_split(featureSet, targetSet,\n",
        "                                                                                                      train_size = 0.7, test_size = 0.3,\n",
        "                                                                                                      shuffle = True)"
      ]
    },
    {
      "cell_type": "markdown",
      "metadata": {
        "id": "e1aHyXUKuMUK"
      },
      "source": [
        "## Helper methods"
      ]
    },
    {
      "cell_type": "code",
      "execution_count": 36,
      "metadata": {
        "id": "f3U5LJntuOML"
      },
      "outputs": [],
      "source": [
        "def getEvaluationMetrics(predictedTargetSet): \n",
        "  accuracy = skl.metrics.accuracy_score(testTargetSet, predictedTargetSet)\n",
        "  precision = skl.metrics.precision_score(testTargetSet, predictedTargetSet, average='micro')\n",
        "  recall = skl.metrics.recall_score(testTargetSet, predictedTargetSet, average='micro')\n",
        "  f1score = skl.metrics.f1_score(testTargetSet, predictedTargetSet, average='micro')\n",
        "  classificationReport = skl.metrics.classification_report(testTargetSet, predictedTargetSet)\n",
        "  return {\n",
        "      accuracy: accuracy,\n",
        "      precision: precision,\n",
        "      recall: recall,\n",
        "      f1score: f1score,\n",
        "      classificationReport: classificationReport\n",
        "  }"
      ]
    },
    {
      "cell_type": "code",
      "execution_count": 37,
      "metadata": {
        "id": "-RyGZVRe3yn4"
      },
      "outputs": [],
      "source": [
        "def printEvaluationMetrics(predictedTargetSet):\n",
        "  evalMetrics = getEvaluationMetrics(predictedTargetSet)\n",
        "  print (evalMetrics)\n",
        "  print(f\"Accuracy score of model: {evalMetrics.accuracy}\")\n",
        "  print(f\"Precision score of model: {evalMetrics.precision}\")\n",
        "  print(f\"Recall score of model: {evalMetrics.recall}\")\n",
        "  print(f\"F1 of model: {evalMetrics.f1score}\")\n",
        "  print(f\"Classification report of model: {evalMetrics.classificationReport}\")"
      ]
    },
    {
      "cell_type": "code",
      "execution_count": 38,
      "metadata": {
        "id": "MP04yhq41u6r"
      },
      "outputs": [],
      "source": [
        "def getTimeTaken(startTime, endTime):\n",
        "  return round((endTime - startTime) * 100, 5)"
      ]
    },
    {
      "cell_type": "code",
      "execution_count": 39,
      "metadata": {
        "id": "ib1QrRh82xeJ"
      },
      "outputs": [],
      "source": [
        "def getTrainingPerformanceMetrics():\n",
        "  return {\n",
        "      timeTaken: timeTaken\n",
        "  }"
      ]
    },
    {
      "cell_type": "markdown",
      "metadata": {
        "id": "9S6YMJipnh5M"
      },
      "source": [
        "## Decision Tree"
      ]
    },
    {
      "cell_type": "code",
      "execution_count": 40,
      "metadata": {
        "id": "48YQnUsSkRme"
      },
      "outputs": [],
      "source": [
        "#@title \n",
        "\n",
        "class DecisionTree:     #Declaring DecisionTree\n",
        "    #Constructor\n",
        "    def __init__(self , data: list = None) -> None:\n",
        "        self.dataset = data\n",
        "        self.featureSet = data.loc[:,data.iloc(-1)] or 0\n",
        "        self.targetSet = data.loc[:,data.iloc(-1)] or 0\n",
        "        \n",
        "    def _prechecksOnDataSet(self):\n",
        "        dataSetClass0Elements =  list(filter(lambda item : targetSet == 0, self.dataset))\n",
        "        dataSetClass1Elements =  list(filter(lambda item : targetSet == 1, self.dataset))\n",
        "        #If all elements of the dataset belong to the same class, we can't split the tree.\n",
        "        if (len(dataSetClass0Elements)== 0 or len(dataSetClass1Elements) == 0):\n",
        "            return False\n",
        "        return \"\"\n",
        "\n",
        "    def _modelFit(self, featureSet, targetSet):\n",
        "        self.featureSet = featureSet\n",
        "        self.targetSet = targetSet\n",
        "    \n",
        "    def _findBestSplit(self) -> tuple():\n",
        "        gini= split = 0\n",
        "        leftTree = rightTree = []\n",
        "        \n",
        "        #Since the dataset has only continuous integer features, we first sort it in ascending order to calculate the mid points\n",
        "        sortedData = sorted(self.dataset.copy(),  key = lambda x: x[0])\n",
        "        midpoints = list(map(lambda x, y: (x[0]+y[0])/2, sortedData[:-1], sortedData[1:]))\n",
        "        #Get all the midpoints\n",
        "        midpoints = list(map(lambda x, y: (x[0]+y[0])/2, sortedData[:-1], sortedData[1:]))\n",
        "        midpoints = list(filter( lambda m: m not in list(map(lambda y: y[0], sortedData)), midpoints))\n",
        "        if len(midpoints) == 0:\n",
        "            return False\n",
        "        #Get Gini Index value and the split point value\n",
        "        giniIndexVal= self._getGiniIndexValue(midpoints, sortedData)\n",
        "        if giniIndexVal == False:\n",
        "            return False\n",
        "        gini, split = giniIndexVal\n",
        "        gini = round(gini, 5)\n",
        "        #We use the mid point value calculated to get the left and right branches of the decision tree\n",
        "        leftTree = list(filter( lambda x:  x[0] <= split, sortedData))\n",
        "        rightTree = list(filter( lambda x:  x[0] > split, sortedData))\n",
        "        return (gini, split, leftTree, rightTree)\n",
        "    \n",
        "    #This returns a tuple that has the Gini index value and the midpoint value\n",
        "    def _getGiniIndexValue(self, midPoints: list, dataset: list) -> tuple():\n",
        "        localLeftTree = localRightTree = [] = giniValues = []\n",
        "        #return False\n",
        "        for midVal in midPoints:\n",
        "            localLeftTree = list(filter(lambda x: x[0] <= midVal, dataset))\n",
        "            localRightTree = list(filter(lambda x: x[0] > midVal, dataset))\n",
        "            D1 = len(localLeftTree); D2 = len(localRightTree); D = len(dataset)\n",
        "\n",
        "            if D >0:        \n",
        "                localGiniValue = ( (D1/ D) * (self._giniValue(localLeftTree)) + (D2/ D) * (self._giniValue(localRightTree)))\n",
        "                giniValues.append((localGiniValue, midVal))\n",
        "\n",
        "        if len(giniValues) > 0 :\n",
        "            # returns the tuple with the smallest gini index value\n",
        "            return sorted(giniValues)[0]\n",
        "        #Split could not be determined\n",
        "        return False\n",
        "    \n",
        "    def _giniValue(self, tree: list) -> float:\n",
        "        giniValue =  sumOfProbabilities = 0 \n",
        "        #Since there are only 2 classes, we are filtering directly by class values 0,1\n",
        "        #Filter features that belong to Class 0 \n",
        "        localTreeClass0 = list(filter(lambda item : item[1] == 0, tree))\n",
        "        #Filter features that belong to Class 1\n",
        "        localTreeClass1 = list(filter(lambda item : item[1] == 1, tree))\n",
        "        if len(tree)>0:\n",
        "            #Gini value is calculated as -> 1 - 'sum of probabilities squared of a feature belonging to a class'\n",
        "            sumOfProbabilities =  (len(localTreeClass0) / len(tree)) ** 2 + (len(localTreeClass1) / len(tree) ) ** 2 \n",
        "            giniValue = 1 - sumOfProbabilities\n",
        "            #return the Gini Index value for this split\n",
        "            return giniValue\n",
        "        return False\n"
      ]
    },
    {
      "cell_type": "markdown",
      "metadata": {
        "id": "mLvGZeIBoZWF"
      },
      "source": [
        "## sklearn Decision tree\n"
      ]
    },
    {
      "cell_type": "code",
      "execution_count": 41,
      "metadata": {
        "id": "99wfVpjPmc-D"
      },
      "outputs": [],
      "source": [
        "dTreeSkl = skl.tree.DecisionTreeClassifier(criterion='gini', random_state=0) #max_depth=3,"
      ]
    },
    {
      "cell_type": "markdown",
      "metadata": {
        "id": "x12ATk-h5kMl"
      },
      "source": [
        "### Train model"
      ]
    },
    {
      "cell_type": "code",
      "execution_count": 42,
      "metadata": {
        "colab": {
          "base_uri": "https://localhost:8080/"
        },
        "id": "ShOAtW4HqglZ",
        "outputId": "d02b7174-90b4-4f81-c10b-57eca34707f4"
      },
      "outputs": [
        {
          "output_type": "stream",
          "name": "stdout",
          "text": [
            "Time taken to train Decision Tree: 0.39451\n"
          ]
        }
      ],
      "source": [
        "dTreeSklStartTime = time.time()\n",
        "dTreeSkl.fit(trainFeatureSet, trainTargetSet)\n",
        "dTreeSklEndTime = time.time()\n",
        "dTreeSklTimeTaken = getTimeTaken(dTreeSklStartTime, dTreeSklEndTime) \n",
        "\n",
        "print(f\"Time taken to train Decision Tree:\", dTreeSklTimeTaken)"
      ]
    },
    {
      "cell_type": "code",
      "execution_count": 42,
      "metadata": {
        "id": "yQBX1yIIDh39"
      },
      "outputs": [],
      "source": [
        ""
      ]
    },
    {
      "cell_type": "markdown",
      "metadata": {
        "id": "jRL187eC5h3B"
      },
      "source": [
        "### Test model"
      ]
    },
    {
      "cell_type": "code",
      "execution_count": 43,
      "metadata": {
        "colab": {
          "base_uri": "https://localhost:8080/"
        },
        "id": "y_AbSLf13U6H",
        "outputId": "24c161af-70be-402f-bbcf-87212a6e718b"
      },
      "outputs": [
        {
          "output_type": "stream",
          "name": "stdout",
          "text": [
            "Evaluation Metrics: {0.9444444444444444: 0.9444444444444444, '              precision    recall  f1-score   support\\n\\n           0       0.91      1.00      0.95        20\\n           1       1.00      0.90      0.95        21\\n           2       0.92      0.92      0.92        13\\n\\n    accuracy                           0.94        54\\n   macro avg       0.94      0.94      0.94        54\\nweighted avg       0.95      0.94      0.94        54\\n': '              precision    recall  f1-score   support\\n\\n           0       0.91      1.00      0.95        20\\n           1       1.00      0.90      0.95        21\\n           2       0.92      0.92      0.92        13\\n\\n    accuracy                           0.94        54\\n   macro avg       0.94      0.94      0.94        54\\nweighted avg       0.95      0.94      0.94        54\\n'}\n"
          ]
        }
      ],
      "source": [
        "predictedValues = dTreeSkl.predict(testFeatureSet)\n",
        "print(f\"Evaluation Metrics:\", getEvaluationMetrics(predictedTargetSet = predictedValues))"
      ]
    },
    {
      "cell_type": "code",
      "execution_count": 44,
      "metadata": {
        "colab": {
          "base_uri": "https://localhost:8080/"
        },
        "id": "27vvlt41EJzg",
        "outputId": "c6082915-dc88-45f7-d279-97e7b605a652"
      },
      "outputs": [
        {
          "output_type": "execute_result",
          "data": {
            "text/plain": [
              "1.0"
            ]
          },
          "metadata": {},
          "execution_count": 44
        }
      ],
      "source": [
        "#trainTargetSet\n",
        "skl.metrics.accuracy_score(dTreeSkl.predict(trainFeatureSet), trainTargetSet)"
      ]
    },
    {
      "cell_type": "markdown",
      "metadata": {
        "id": "b_p6zg6pH5ww"
      },
      "source": [
        "### Visualizing"
      ]
    },
    {
      "cell_type": "code",
      "execution_count": 79,
      "metadata": {
        "colab": {
          "base_uri": "https://localhost:8080/",
          "height": 286
        },
        "id": "DEoLlFCpH7dh",
        "outputId": "610a45ef-4848-4406-93dd-fc505298cefc"
      },
      "outputs": [
        {
          "output_type": "stream",
          "name": "stdout",
          "text": [
            "[Text(125.55000000000001, 195.696, 'color_intensity <= 3.46\\ngini = 0.659\\nsamples = 124\\nvalue = [39, 50, 35]\\nclass = class_1'), Text(83.7, 152.208, 'gini = 0.0\\nsamples = 40\\nvalue = [0, 40, 0]\\nclass = class_1'), Text(167.4, 152.208, 'flavanoids <= 1.49\\ngini = 0.597\\nsamples = 84\\nvalue = [39, 10, 35]\\nclass = class_0'), Text(83.7, 108.72, 'od280/od315_of_diluted_wines <= 2.56\\ngini = 0.054\\nsamples = 36\\nvalue = [0, 1, 35]\\nclass = class_2'), Text(41.85, 65.232, 'gini = 0.0\\nsamples = 35\\nvalue = [0, 0, 35]\\nclass = class_2'), Text(125.55000000000001, 65.232, 'gini = 0.0\\nsamples = 1\\nvalue = [0, 1, 0]\\nclass = class_1'), Text(251.10000000000002, 108.72, 'proline <= 724.5\\ngini = 0.305\\nsamples = 48\\nvalue = [39, 9, 0]\\nclass = class_0'), Text(209.25, 65.232, 'hue <= 0.83\\ngini = 0.18\\nsamples = 10\\nvalue = [1, 9, 0]\\nclass = class_1'), Text(167.4, 21.744, 'gini = 0.0\\nsamples = 1\\nvalue = [1, 0, 0]\\nclass = class_0'), Text(251.10000000000002, 21.744, 'gini = 0.0\\nsamples = 9\\nvalue = [0, 9, 0]\\nclass = class_1'), Text(292.95, 65.232, 'gini = 0.0\\nsamples = 38\\nvalue = [38, 0, 0]\\nclass = class_0')]\n"
          ]
        },
        {
          "output_type": "display_data",
          "data": {
            "image/png": "[encoded data removed]",
            "text/plain": [
              "<Figure size 432x288 with 1 Axes>"
            ]
          },
          "metadata": {
            "needs_background": "light"
          }
        }
      ],
      "source": [
        "#@title\n",
        "#print(skl.tree.plot_tree(dTreeSkl, feature_names= wineDataset.feature_names, class_names= wineDataset.target_names, filled=True, fontsize=5))"
      ]
    },
    {
      "cell_type": "code",
      "source": [
        "dot_data = skl.tree.export_graphviz(dTreeSkl, out_file=None,  \n",
        "                filled=True, rounded=False,\n",
        "                special_characters=True,\n",
        "                feature_names = wineDataset.feature_names,\n",
        "                class_names = wineDataset.target_names)\n",
        "graph = graphviz.Source(dot_data)  \n",
        "graph"
      ],
      "metadata": {
        "colab": {
          "base_uri": "https://localhost:8080/",
          "height": 758
        },
        "id": "k_2kkWtDJJxI",
        "outputId": "dd70edb4-911b-4067-b2f7-4d742f06540a"
      },
      "execution_count": 67,
      "outputs": [
        {
          "output_type": "execute_result",
          "data": {
            "text/plain": [
              "<graphviz.files.Source at 0x7f5167feb150>"
            ],
            "image/svg+xml": "<?xml version=\"1.0\" encoding=\"UTF-8\" standalone=\"no\"?>\n<!DOCTYPE svg PUBLIC \"-//W3C//DTD SVG 1.1//EN\"\n \"http://www.w3.org/Graphics/SVG/1.1/DTD/svg11.dtd\">\n<!-- Generated by graphviz version 2.40.1 (20161225.0304)\n -->\n<!-- Title: Tree Pages: 1 -->\n<svg width=\"579pt\" height=\"552pt\"\n viewBox=\"0.00 0.00 579.00 552.00\" xmlns=\"http://www.w3.org/2000/svg\" xmlns:xlink=\"http://www.w3.org/1999/xlink\">\n<g id=\"graph0\" class=\"graph\" transform=\"scale(1 1) rotate(0) translate(4 548)\">\n<title>Tree</title>\n<polygon fill=\"#ffffff\" stroke=\"transparent\" points=\"-4,4 -4,-548 575,-548 575,4 -4,4\"/>\n<!-- 0 -->\n<g id=\"node1\" class=\"node\">\n<title>0</title>\n<polygon fill=\"#e5fcef\" stroke=\"#000000\" points=\"287,-544 134,-544 134,-461 287,-461 287,-544\"/>\n<text text-anchor=\"start\" x=\"142\" y=\"-528.8\" font-family=\"Helvetica,sans-Serif\" font-size=\"14.00\" fill=\"#000000\">color_intensity ≤ 3.46</text>\n<text text-anchor=\"start\" x=\"172.5\" y=\"-513.8\" font-family=\"Helvetica,sans-Serif\" font-size=\"14.00\" fill=\"#000000\">gini = 0.659</text>\n<text text-anchor=\"start\" x=\"162.5\" y=\"-498.8\" font-family=\"Helvetica,sans-Serif\" font-size=\"14.00\" fill=\"#000000\">samples = 124</text>\n<text text-anchor=\"start\" x=\"148.5\" y=\"-483.8\" font-family=\"Helvetica,sans-Serif\" font-size=\"14.00\" fill=\"#000000\">value = [39, 50, 35]</text>\n<text text-anchor=\"start\" x=\"160.5\" y=\"-468.8\" font-family=\"Helvetica,sans-Serif\" font-size=\"14.00\" fill=\"#000000\">class = class_1</text>\n</g>\n<!-- 1 -->\n<g id=\"node2\" class=\"node\">\n<title>1</title>\n<polygon fill=\"#39e581\" stroke=\"#000000\" points=\"197,-417.5 74,-417.5 74,-349.5 197,-349.5 197,-417.5\"/>\n<text text-anchor=\"start\" x=\"106\" y=\"-402.3\" font-family=\"Helvetica,sans-Serif\" font-size=\"14.00\" fill=\"#000000\">gini = 0.0</text>\n<text text-anchor=\"start\" x=\"91.5\" y=\"-387.3\" font-family=\"Helvetica,sans-Serif\" font-size=\"14.00\" fill=\"#000000\">samples = 40</text>\n<text text-anchor=\"start\" x=\"82\" y=\"-372.3\" font-family=\"Helvetica,sans-Serif\" font-size=\"14.00\" fill=\"#000000\">value = [0, 40, 0]</text>\n<text text-anchor=\"start\" x=\"85.5\" y=\"-357.3\" font-family=\"Helvetica,sans-Serif\" font-size=\"14.00\" fill=\"#000000\">class = class_1</text>\n</g>\n<!-- 0&#45;&gt;1 -->\n<g id=\"edge1\" class=\"edge\">\n<title>0&#45;&gt;1</title>\n<path fill=\"none\" stroke=\"#000000\" d=\"M184.2686,-460.8796C177.269,-449.7735 169.692,-437.7513 162.6444,-426.5691\"/>\n<polygon fill=\"#000000\" stroke=\"#000000\" points=\"165.42,-424.4087 157.1271,-417.8149 159.498,-428.1411 165.42,-424.4087\"/>\n<text text-anchor=\"middle\" x=\"151.5974\" y=\"-438.4957\" font-family=\"Helvetica,sans-Serif\" font-size=\"14.00\" fill=\"#000000\">True</text>\n</g>\n<!-- 2 -->\n<g id=\"node3\" class=\"node\">\n<title>2</title>\n<polygon fill=\"#fdf5ef\" stroke=\"#000000\" points=\"355.5,-425 215.5,-425 215.5,-342 355.5,-342 355.5,-425\"/>\n<text text-anchor=\"start\" x=\"230.5\" y=\"-409.8\" font-family=\"Helvetica,sans-Serif\" font-size=\"14.00\" fill=\"#000000\">flavanoids ≤ 1.49</text>\n<text text-anchor=\"start\" x=\"247.5\" y=\"-394.8\" font-family=\"Helvetica,sans-Serif\" font-size=\"14.00\" fill=\"#000000\">gini = 0.597</text>\n<text text-anchor=\"start\" x=\"241.5\" y=\"-379.8\" font-family=\"Helvetica,sans-Serif\" font-size=\"14.00\" fill=\"#000000\">samples = 84</text>\n<text text-anchor=\"start\" x=\"223.5\" y=\"-364.8\" font-family=\"Helvetica,sans-Serif\" font-size=\"14.00\" fill=\"#000000\">value = [39, 10, 35]</text>\n<text text-anchor=\"start\" x=\"235.5\" y=\"-349.8\" font-family=\"Helvetica,sans-Serif\" font-size=\"14.00\" fill=\"#000000\">class = class_0</text>\n</g>\n<!-- 0&#45;&gt;2 -->\n<g id=\"edge2\" class=\"edge\">\n<title>0&#45;&gt;2</title>\n<path fill=\"none\" stroke=\"#000000\" d=\"M236.7314,-460.8796C242.2373,-452.1434 248.1006,-442.8404 253.7824,-433.8253\"/>\n<polygon fill=\"#000000\" stroke=\"#000000\" points=\"256.7857,-435.6242 259.1567,-425.2981 250.8637,-431.8919 256.7857,-435.6242\"/>\n<text text-anchor=\"middle\" x=\"264.6863\" y=\"-445.9789\" font-family=\"Helvetica,sans-Serif\" font-size=\"14.00\" fill=\"#000000\">False</text>\n</g>\n<!-- 3 -->\n<g id=\"node4\" class=\"node\">\n<title>3</title>\n<polygon fill=\"#853fe6\" stroke=\"#000000\" points=\"311,-306 48,-306 48,-223 311,-223 311,-306\"/>\n<text text-anchor=\"start\" x=\"56\" y=\"-290.8\" font-family=\"Helvetica,sans-Serif\" font-size=\"14.00\" fill=\"#000000\">od280/od315_of_diluted_wines ≤ 2.56</text>\n<text text-anchor=\"start\" x=\"141.5\" y=\"-275.8\" font-family=\"Helvetica,sans-Serif\" font-size=\"14.00\" fill=\"#000000\">gini = 0.054</text>\n<text text-anchor=\"start\" x=\"135.5\" y=\"-260.8\" font-family=\"Helvetica,sans-Serif\" font-size=\"14.00\" fill=\"#000000\">samples = 36</text>\n<text text-anchor=\"start\" x=\"126\" y=\"-245.8\" font-family=\"Helvetica,sans-Serif\" font-size=\"14.00\" fill=\"#000000\">value = [0, 1, 35]</text>\n<text text-anchor=\"start\" x=\"129.5\" y=\"-230.8\" font-family=\"Helvetica,sans-Serif\" font-size=\"14.00\" fill=\"#000000\">class = class_2</text>\n</g>\n<!-- 2&#45;&gt;3 -->\n<g id=\"edge3\" class=\"edge\">\n<title>2&#45;&gt;3</title>\n<path fill=\"none\" stroke=\"#000000\" d=\"M248.4263,-341.8796C240.4039,-332.8733 231.8448,-323.2644 223.5833,-313.9897\"/>\n<polygon fill=\"#000000\" stroke=\"#000000\" points=\"225.9969,-311.4373 216.7319,-306.2981 220.7698,-316.0933 225.9969,-311.4373\"/>\n</g>\n<!-- 6 -->\n<g id=\"node7\" class=\"node\">\n<title>6</title>\n<polygon fill=\"#eb9e67\" stroke=\"#000000\" points=\"452,-306 329,-306 329,-223 452,-223 452,-306\"/>\n<text text-anchor=\"start\" x=\"342.5\" y=\"-290.8\" font-family=\"Helvetica,sans-Serif\" font-size=\"14.00\" fill=\"#000000\">proline ≤ 724.5</text>\n<text text-anchor=\"start\" x=\"352.5\" y=\"-275.8\" font-family=\"Helvetica,sans-Serif\" font-size=\"14.00\" fill=\"#000000\">gini = 0.305</text>\n<text text-anchor=\"start\" x=\"346.5\" y=\"-260.8\" font-family=\"Helvetica,sans-Serif\" font-size=\"14.00\" fill=\"#000000\">samples = 48</text>\n<text text-anchor=\"start\" x=\"337\" y=\"-245.8\" font-family=\"Helvetica,sans-Serif\" font-size=\"14.00\" fill=\"#000000\">value = [39, 9, 0]</text>\n<text text-anchor=\"start\" x=\"340.5\" y=\"-230.8\" font-family=\"Helvetica,sans-Serif\" font-size=\"14.00\" fill=\"#000000\">class = class_0</text>\n</g>\n<!-- 2&#45;&gt;6 -->\n<g id=\"edge6\" class=\"edge\">\n<title>2&#45;&gt;6</title>\n<path fill=\"none\" stroke=\"#000000\" d=\"M322.2239,-341.8796C330.1707,-332.8733 338.649,-323.2644 346.8326,-313.9897\"/>\n<polygon fill=\"#000000\" stroke=\"#000000\" points=\"349.6275,-316.1122 353.6193,-306.2981 344.3787,-311.4808 349.6275,-316.1122\"/>\n</g>\n<!-- 4 -->\n<g id=\"node5\" class=\"node\">\n<title>4</title>\n<polygon fill=\"#8139e5\" stroke=\"#000000\" points=\"123,-179.5 0,-179.5 0,-111.5 123,-111.5 123,-179.5\"/>\n<text text-anchor=\"start\" x=\"32\" y=\"-164.3\" font-family=\"Helvetica,sans-Serif\" font-size=\"14.00\" fill=\"#000000\">gini = 0.0</text>\n<text text-anchor=\"start\" x=\"17.5\" y=\"-149.3\" font-family=\"Helvetica,sans-Serif\" font-size=\"14.00\" fill=\"#000000\">samples = 35</text>\n<text text-anchor=\"start\" x=\"8\" y=\"-134.3\" font-family=\"Helvetica,sans-Serif\" font-size=\"14.00\" fill=\"#000000\">value = [0, 0, 35]</text>\n<text text-anchor=\"start\" x=\"11.5\" y=\"-119.3\" font-family=\"Helvetica,sans-Serif\" font-size=\"14.00\" fill=\"#000000\">class = class_2</text>\n</g>\n<!-- 3&#45;&gt;4 -->\n<g id=\"edge4\" class=\"edge\">\n<title>3&#45;&gt;4</title>\n<path fill=\"none\" stroke=\"#000000\" d=\"M138.2293,-222.8796C126.7805,-211.3337 114.3497,-198.7976 102.8938,-187.2446\"/>\n<polygon fill=\"#000000\" stroke=\"#000000\" points=\"105.0531,-184.4514 95.5266,-179.8149 100.0825,-189.3802 105.0531,-184.4514\"/>\n</g>\n<!-- 5 -->\n<g id=\"node6\" class=\"node\">\n<title>5</title>\n<polygon fill=\"#39e581\" stroke=\"#000000\" points=\"257.5,-179.5 141.5,-179.5 141.5,-111.5 257.5,-111.5 257.5,-179.5\"/>\n<text text-anchor=\"start\" x=\"170\" y=\"-164.3\" font-family=\"Helvetica,sans-Serif\" font-size=\"14.00\" fill=\"#000000\">gini = 0.0</text>\n<text text-anchor=\"start\" x=\"160\" y=\"-149.3\" font-family=\"Helvetica,sans-Serif\" font-size=\"14.00\" fill=\"#000000\">samples = 1</text>\n<text text-anchor=\"start\" x=\"150\" y=\"-134.3\" font-family=\"Helvetica,sans-Serif\" font-size=\"14.00\" fill=\"#000000\">value = [0, 1, 0]</text>\n<text text-anchor=\"start\" x=\"149.5\" y=\"-119.3\" font-family=\"Helvetica,sans-Serif\" font-size=\"14.00\" fill=\"#000000\">class = class_1</text>\n</g>\n<!-- 3&#45;&gt;5 -->\n<g id=\"edge5\" class=\"edge\">\n<title>3&#45;&gt;5</title>\n<path fill=\"none\" stroke=\"#000000\" d=\"M186.495,-222.8796C188.2877,-212.2134 190.2223,-200.7021 192.0376,-189.9015\"/>\n<polygon fill=\"#000000\" stroke=\"#000000\" points=\"195.5269,-190.2568 193.7328,-179.8149 188.6237,-189.0965 195.5269,-190.2568\"/>\n</g>\n<!-- 7 -->\n<g id=\"node8\" class=\"node\">\n<title>7</title>\n<polygon fill=\"#4fe88f\" stroke=\"#000000\" points=\"429.5,-187 313.5,-187 313.5,-104 429.5,-104 429.5,-187\"/>\n<text text-anchor=\"start\" x=\"337\" y=\"-171.8\" font-family=\"Helvetica,sans-Serif\" font-size=\"14.00\" fill=\"#000000\">hue ≤ 0.83</text>\n<text text-anchor=\"start\" x=\"338\" y=\"-156.8\" font-family=\"Helvetica,sans-Serif\" font-size=\"14.00\" fill=\"#000000\">gini = 0.18</text>\n<text text-anchor=\"start\" x=\"327.5\" y=\"-141.8\" font-family=\"Helvetica,sans-Serif\" font-size=\"14.00\" fill=\"#000000\">samples = 10</text>\n<text text-anchor=\"start\" x=\"322\" y=\"-126.8\" font-family=\"Helvetica,sans-Serif\" font-size=\"14.00\" fill=\"#000000\">value = [1, 9, 0]</text>\n<text text-anchor=\"start\" x=\"321.5\" y=\"-111.8\" font-family=\"Helvetica,sans-Serif\" font-size=\"14.00\" fill=\"#000000\">class = class_1</text>\n</g>\n<!-- 6&#45;&gt;7 -->\n<g id=\"edge7\" class=\"edge\">\n<title>6&#45;&gt;7</title>\n<path fill=\"none\" stroke=\"#000000\" d=\"M383.8547,-222.8796C382.5318,-214.5938 381.1274,-205.798 379.7581,-197.2216\"/>\n<polygon fill=\"#000000\" stroke=\"#000000\" points=\"383.2066,-196.6211 378.1736,-187.2981 376.2942,-197.7249 383.2066,-196.6211\"/>\n</g>\n<!-- 10 -->\n<g id=\"node11\" class=\"node\">\n<title>10</title>\n<polygon fill=\"#e58139\" stroke=\"#000000\" points=\"571,-179.5 448,-179.5 448,-111.5 571,-111.5 571,-179.5\"/>\n<text text-anchor=\"start\" x=\"480\" y=\"-164.3\" font-family=\"Helvetica,sans-Serif\" font-size=\"14.00\" fill=\"#000000\">gini = 0.0</text>\n<text text-anchor=\"start\" x=\"465.5\" y=\"-149.3\" font-family=\"Helvetica,sans-Serif\" font-size=\"14.00\" fill=\"#000000\">samples = 38</text>\n<text text-anchor=\"start\" x=\"456\" y=\"-134.3\" font-family=\"Helvetica,sans-Serif\" font-size=\"14.00\" fill=\"#000000\">value = [38, 0, 0]</text>\n<text text-anchor=\"start\" x=\"459.5\" y=\"-119.3\" font-family=\"Helvetica,sans-Serif\" font-size=\"14.00\" fill=\"#000000\">class = class_0</text>\n</g>\n<!-- 6&#45;&gt;10 -->\n<g id=\"edge10\" class=\"edge\">\n<title>6&#45;&gt;10</title>\n<path fill=\"none\" stroke=\"#000000\" d=\"M432.1204,-222.8796C443.7763,-211.2237 456.4413,-198.5587 468.0852,-186.9148\"/>\n<polygon fill=\"#000000\" stroke=\"#000000\" points=\"470.5889,-189.3609 475.1851,-179.8149 465.6391,-184.4111 470.5889,-189.3609\"/>\n</g>\n<!-- 8 -->\n<g id=\"node9\" class=\"node\">\n<title>8</title>\n<polygon fill=\"#e58139\" stroke=\"#000000\" points=\"362.5,-68 246.5,-68 246.5,0 362.5,0 362.5,-68\"/>\n<text text-anchor=\"start\" x=\"275\" y=\"-52.8\" font-family=\"Helvetica,sans-Serif\" font-size=\"14.00\" fill=\"#000000\">gini = 0.0</text>\n<text text-anchor=\"start\" x=\"265\" y=\"-37.8\" font-family=\"Helvetica,sans-Serif\" font-size=\"14.00\" fill=\"#000000\">samples = 1</text>\n<text text-anchor=\"start\" x=\"255\" y=\"-22.8\" font-family=\"Helvetica,sans-Serif\" font-size=\"14.00\" fill=\"#000000\">value = [1, 0, 0]</text>\n<text text-anchor=\"start\" x=\"254.5\" y=\"-7.8\" font-family=\"Helvetica,sans-Serif\" font-size=\"14.00\" fill=\"#000000\">class = class_0</text>\n</g>\n<!-- 7&#45;&gt;8 -->\n<g id=\"edge8\" class=\"edge\">\n<title>7&#45;&gt;8</title>\n<path fill=\"none\" stroke=\"#000000\" d=\"M346.5517,-103.9815C341.2499,-95.1585 335.6419,-85.8258 330.3089,-76.9506\"/>\n<polygon fill=\"#000000\" stroke=\"#000000\" points=\"333.2396,-75.0325 325.0889,-68.2637 327.2395,-78.638 333.2396,-75.0325\"/>\n</g>\n<!-- 9 -->\n<g id=\"node10\" class=\"node\">\n<title>9</title>\n<polygon fill=\"#39e581\" stroke=\"#000000\" points=\"496.5,-68 380.5,-68 380.5,0 496.5,0 496.5,-68\"/>\n<text text-anchor=\"start\" x=\"409\" y=\"-52.8\" font-family=\"Helvetica,sans-Serif\" font-size=\"14.00\" fill=\"#000000\">gini = 0.0</text>\n<text text-anchor=\"start\" x=\"399\" y=\"-37.8\" font-family=\"Helvetica,sans-Serif\" font-size=\"14.00\" fill=\"#000000\">samples = 9</text>\n<text text-anchor=\"start\" x=\"389\" y=\"-22.8\" font-family=\"Helvetica,sans-Serif\" font-size=\"14.00\" fill=\"#000000\">value = [0, 9, 0]</text>\n<text text-anchor=\"start\" x=\"388.5\" y=\"-7.8\" font-family=\"Helvetica,sans-Serif\" font-size=\"14.00\" fill=\"#000000\">class = class_1</text>\n</g>\n<!-- 7&#45;&gt;9 -->\n<g id=\"edge9\" class=\"edge\">\n<title>7&#45;&gt;9</title>\n<path fill=\"none\" stroke=\"#000000\" d=\"M396.4483,-103.9815C401.7501,-95.1585 407.3581,-85.8258 412.6911,-76.9506\"/>\n<polygon fill=\"#000000\" stroke=\"#000000\" points=\"415.7605,-78.638 417.9111,-68.2637 409.7604,-75.0325 415.7605,-78.638\"/>\n</g>\n</g>\n</svg>\n"
          },
          "metadata": {},
          "execution_count": 67
        }
      ]
    }
  ],
  "metadata": {
    "colab": {
      "collapsed_sections": [
        "NuUScvYUsXb6",
        "x12ATk-h5kMl",
        "jRL187eC5h3B"
      ],
      "name": "scc 461 py Decision tree.ipynb",
      "toc_visible": true,
      "provenance": [],
      "authorship_tag": "ABX9TyMRRVOFmlcyhKStUqeKJ2y4",
      "include_colab_link": true
    },
    "kernelspec": {
      "display_name": "Python 3",
      "name": "python3"
    },
    "language_info": {
      "name": "python"
    }
  },
  "nbformat": 4,
  "nbformat_minor": 0
}